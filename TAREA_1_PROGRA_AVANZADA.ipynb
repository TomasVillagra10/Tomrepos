{
  "nbformat": 4,
  "nbformat_minor": 0,
  "metadata": {
    "colab": {
      "provenance": []
    },
    "kernelspec": {
      "name": "python3",
      "display_name": "Python 3"
    },
    "language_info": {
      "name": "python"
    }
  },
  "cells": [
    {
      "cell_type": "code",
      "source": [
        "import time as t\n",
        "\n",
        "\n",
        "def medir_tiempo(func):\n",
        "    def nueva_func(*args, **kwargs):\n",
        "        inicio = t.time()\n",
        "        resultado = func(*args, **kwargs)\n",
        "        fin = t.time()\n",
        "        tiempo_ejecucion = fin - inicio\n",
        "\n",
        "        return resultado\n",
        "    return nueva_func\n",
        "\n",
        "\n",
        "class CaminosPCB:\n",
        "\n",
        "    def __init__(self, nombre: str, N: int, M: int):\n",
        "\n",
        "        self.nombre = nombre\n",
        "        self.N = N\n",
        "        self.M = M\n",
        "\n",
        "\n",
        "\n",
        "    def CaminosPosibles1(self, N: int, M: int):\n",
        "\n",
        "        if N == 0 and M == 0:\n",
        "            return 1  # NO HAY DONDE MOVERSE\n",
        "        elif N == 0:\n",
        "            return self.CaminosPosibles1(N, M - 1)  # Moviendoe de izquierda a derecha\n",
        "        elif M == 0:\n",
        "            return self.CaminosPosibles1(N - 1, M)  # Moviendo desde arriba hacia abajo\n",
        "        else:\n",
        "            return self.CaminosPosibles1(N - 1, M) + self.CaminosPosibles1(N, M - 1) # Cantidad de caminos posibles\n",
        "\n",
        "\n",
        "    def CaminosPosibles2(self, N: int, M: int):\n",
        "\n",
        "        res = [[0] * (M+ 1) for i in range(N + 1)]# Inicializamos la matriz para almacenar los resultados\n",
        "\n",
        "\n",
        "        res[0][0] = 1  # Caso base: hay un solo camino al punto de inicio\n",
        "\n",
        "\n",
        "        for i in range(N + 1):\n",
        "            for j in range(M + 1):\n",
        "                if i > 0:\n",
        "                    res[i][j] = res[i][j] + res[i - 1][j]\n",
        "                if j > 0:\n",
        "                    res[i][j] = res[i][j] + res[i][j - 1]\n",
        "        return res[N][M]  # Devolvemos el número de caminos al punto final\n",
        "\n",
        "    def TiempoEjecucion1(self, N: int, M: int):\n",
        "\n",
        "        inicio = t.time()  # Tiempo ACTUAL antes de ejecutar resultado\n",
        "        resultado = self.CaminosPosibles1(N, M)\n",
        "        fin = t.time()  # Tiempo ACTUAL despues de ejecutar resultado\n",
        "        TiempoEjecucion = fin - inicio  # Tiempo de ejecución\n",
        "        return TiempoEjecucion\n",
        "\n",
        "\n",
        "    def TiempoEjecucion2(self, N: int, M: int):\n",
        "\n",
        "        inicio = t.time()  # Tiempo ACTUAL antes de ejecutar resultado\n",
        "        resultado = self.CaminosPosibles2(N, M)\n",
        "        fin = t.time()  # Tiempo ACTUAL despues de ejecutar resultado\n",
        "        TiempoEjecucion = fin - inicio  # Tiempo de ejecución\n",
        "        return TiempoEjecucion\n",
        "\n",
        "    @medir_tiempo\n",
        "    def calcular_caminos(self, metodo: str):\n",
        "        if metodo == 'CaminosPosibles1':\n",
        "            return self.CaminosPosibles1(self.N, self.M)\n",
        "        elif metodo == 'CaminosPosibles2':\n",
        "            return self.CaminosPosibles2(self.N, self.M)\n",
        "        else:\n",
        "            raise ValueError(\"Método no reconocido.\")\n",
        "\n",
        "\n",
        "# 3 INSTANCIAS DIFERENTES\n",
        "\n",
        "PCB1= CaminosPCB(\"PCB 1\", 0, 0)\n",
        "PCB2= CaminosPCB(\"PCB 2\", 3, 7)\n",
        "PCB3= CaminosPCB(\"PCB 3\", 10, 10)\n",
        "\n"
      ],
      "metadata": {
        "id": "R4SRmR_rmPAy"
      },
      "execution_count": 124,
      "outputs": []
    },
    {
      "cell_type": "code",
      "source": [
        "\n",
        "resultado1 = PCB1.CaminosPosibles1(PCB1.N, PCB1.M)\n",
        "resultado2= PCB2.CaminosPosibles1(PCB2.N, PCB2.M)\n",
        "resultado3 = PCB3.CaminosPosibles1(PCB3.N, PCB3.M)\n",
        "\n",
        "print(f\"Cantidad de caminos posibles: {resultado1}\")\n",
        "print(f\"Cantidad de caminos posibles: {resultado2}\")\n",
        "print(f\"Cantidad de caminos posibles: {resultado3}\")"
      ],
      "metadata": {
        "colab": {
          "base_uri": "https://localhost:8080/"
        },
        "id": "bmCHR-84MMnJ",
        "outputId": "123cba4a-fa40-4e15-bf1d-33babffd3206"
      },
      "execution_count": 125,
      "outputs": [
        {
          "output_type": "stream",
          "name": "stdout",
          "text": [
            "Cantidad de caminos posibles: 1\n",
            "Cantidad de caminos posibles: 120\n",
            "Cantidad de caminos posibles: 184756\n"
          ]
        }
      ]
    },
    {
      "cell_type": "code",
      "source": [
        "tiempo = PCB3.TiempoEjecucion1(PCB3.N, PCB3.M)\n",
        "print(f\"Tiempo de ejecución: {tiempo:} segundos\")"
      ],
      "metadata": {
        "colab": {
          "base_uri": "https://localhost:8080/"
        },
        "id": "zHyhmZ7jCEI3",
        "outputId": "3018530f-57ad-4e3d-9b43-de8a53477aab"
      },
      "execution_count": 126,
      "outputs": [
        {
          "output_type": "stream",
          "name": "stdout",
          "text": [
            "Tiempo de ejecución: 0.1408538818359375 segundos\n"
          ]
        }
      ]
    },
    {
      "cell_type": "code",
      "source": [
        "resultado1 = PCB1.CaminosPosibles2(PCB1.N, PCB1.M)\n",
        "resultado2 = PCB2.CaminosPosibles2(PCB2.N, PCB2.M)\n",
        "resultado3 = PCB3.CaminosPosibles2(PCB3.N, PCB3.M)\n",
        "\n",
        "print(f\"Cantidad de caminos posibles: {resultado1}\")\n",
        "print(f\"Cantidad de caminos posibles: {resultado2}\")\n",
        "print(f\"Cantidad de caminos posibles: {resultado3}\")"
      ],
      "metadata": {
        "colab": {
          "base_uri": "https://localhost:8080/"
        },
        "id": "AFaIu1vi-ahW",
        "outputId": "e802cd0f-fba5-4ace-c8b1-47265b85ae0f"
      },
      "execution_count": 127,
      "outputs": [
        {
          "output_type": "stream",
          "name": "stdout",
          "text": [
            "Cantidad de caminos posibles: 1\n",
            "Cantidad de caminos posibles: 120\n",
            "Cantidad de caminos posibles: 184756\n"
          ]
        }
      ]
    },
    {
      "cell_type": "code",
      "source": [
        "tiempo = PCB3.TiempoEjecucion2(PCB3.N, PCB3.M)\n",
        "print(f\"Tiempo de ejecución: {tiempo:} segundos\")"
      ],
      "metadata": {
        "colab": {
          "base_uri": "https://localhost:8080/"
        },
        "id": "ufJCSRr4Ejxr",
        "outputId": "f3a4811a-8ccf-459a-ffe6-3001abed4c32"
      },
      "execution_count": 128,
      "outputs": [
        {
          "output_type": "stream",
          "name": "stdout",
          "text": [
            "Tiempo de ejecución: 9.751319885253906e-05 segundos\n"
          ]
        }
      ]
    },
    {
      "cell_type": "markdown",
      "source": [
        "Ahora veremos el uso del decorador PARA AMBOS METODOS"
      ],
      "metadata": {
        "id": "u85QbiNIqOI2"
      }
    },
    {
      "cell_type": "code",
      "source": [
        "\n",
        "print(f\"Cantidad de caminos posibles (CaminosPosibles1) para PCB1: {PCB1.calcular_caminos('CaminosPosibles1')}\")\n",
        "print(f\"Cantidad de caminos posibles (CaminosPosibles1) para PCB2: {PCB2.calcular_caminos('CaminosPosibles1')}\")\n",
        "print(f\"Cantidad de caminos posibles (CaminosPosibles1) para PCB3: {PCB3.calcular_caminos('CaminosPosibles1')}\")\n",
        "\n",
        "\n"
      ],
      "metadata": {
        "colab": {
          "base_uri": "https://localhost:8080/"
        },
        "id": "K0akKGprpZRa",
        "outputId": "450943c7-dac2-4014-d672-f4d263bc7805"
      },
      "execution_count": 131,
      "outputs": [
        {
          "output_type": "stream",
          "name": "stdout",
          "text": [
            "Cantidad de caminos posibles (CaminosPosibles1) para PCB1: 1\n",
            "Cantidad de caminos posibles (CaminosPosibles1) para PCB2: 120\n",
            "Cantidad de caminos posibles (CaminosPosibles1) para PCB3: 184756\n"
          ]
        }
      ]
    },
    {
      "cell_type": "code",
      "source": [
        "print(f\"Cantidad de caminos posibles (CaminosPosibles2) para PCB1: {PCB1.calcular_caminos('CaminosPosibles2')}\")\n",
        "print(f\"Cantidad de caminos posibles (CaminosPosibles2) para PCB2: {PCB2.calcular_caminos('CaminosPosibles2')}\")\n",
        "print(f\"Cantidad de caminos posibles (CaminosPosibles2) para PCB3: {PCB3.calcular_caminos('CaminosPosibles2')}\")"
      ],
      "metadata": {
        "colab": {
          "base_uri": "https://localhost:8080/"
        },
        "id": "AueRQ_mErDXa",
        "outputId": "10ccf5f8-69af-4295-d529-fcc8198d7d4d"
      },
      "execution_count": 132,
      "outputs": [
        {
          "output_type": "stream",
          "name": "stdout",
          "text": [
            "Cantidad de caminos posibles (CaminosPosibles2) para PCB1: 1\n",
            "Cantidad de caminos posibles (CaminosPosibles2) para PCB2: 120\n",
            "Cantidad de caminos posibles (CaminosPosibles2) para PCB3: 184756\n"
          ]
        }
      ]
    }
  ]
}